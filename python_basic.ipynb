{
 "cells": [
  {
   "cell_type": "code",
   "execution_count": 1,
   "metadata": {},
   "outputs": [
    {
     "name": "stdout",
     "output_type": "stream",
     "text": [
      "world!\n",
      "Hello world!\n",
      "Hello world! 2.0\n"
     ]
    }
   ],
   "source": [
    "#input & output\n",
    "name = input()\n",
    "print(\"Hello \" + name)\n",
    "print(\"Hello\", name, 2.0)"
   ]
  },
  {
   "cell_type": "code",
   "execution_count": 4,
   "metadata": {},
   "outputs": [
    {
     "name": "stdout",
     "output_type": "stream",
     "text": [
      "hello world! <class 'str'>\n",
      "10 <class 'int'>\n",
      "10.0 <class 'float'>\n",
      "True <class 'bool'>\n",
      "[1, 2, 3] <class 'list'>\n",
      "(1, 2) <class 'tuple'>\n",
      "{1: 'hello world!'} <class 'dict'>\n"
     ]
    }
   ],
   "source": [
    "#dynamic type\n",
    "val = \"hello world!\"\n",
    "print(val, type(val))\n",
    "\n",
    "val = 10\n",
    "print(val, type(val))\n",
    "\n",
    "val = 10.0\n",
    "print(val, type(val))\n",
    "\n",
    "val = True\n",
    "print(val, type(val))\n",
    "\n",
    "val = [1, 2, 3]\n",
    "print(val, type(val))\n",
    "\n",
    "val = (1, 2)\n",
    "print(val, type(val))\n",
    "\n",
    "val = {1:\"hello world!\"}\n",
    "print(val, type(val))"
   ]
  },
  {
   "cell_type": "code",
   "execution_count": 8,
   "metadata": {},
   "outputs": [
    {
     "name": "stdout",
     "output_type": "stream",
     "text": [
      "val + 4 =  14\n",
      "val - 4 =  6\n",
      "val * 4 =  40\n",
      "val ** 4 =  10000\n",
      "val / 4 =  2.5\n",
      "int(val) / 4 =  2.5\n",
      "float(val) / 4 =  2.5\n",
      "val // 4 =  2\n",
      "float(val) // 4 =  2.0\n"
     ]
    }
   ],
   "source": [
    "#basic math operation\n",
    "val = 10\n",
    "print(\"val + 4 = \", val + 4)\n",
    "print(\"val - 4 = \", val - 4)\n",
    "print(\"val * 4 = \", val * 4)\n",
    "print(\"val ** 4 = \", val ** 4)\n",
    "print(\"val / 4 = \", val / 4)\n",
    "print(\"int(val) / 4 = \", int(val) / 4)\n",
    "print(\"float(val) / 4 = \", float(val) / 4)\n",
    "print(\"val // 4 = \", val // 4)\n",
    "print(\"float(val) // 4 = \", float(val) // 4)"
   ]
  },
  {
   "cell_type": "code",
   "execution_count": 9,
   "metadata": {},
   "outputs": [
    {
     "name": "stdout",
     "output_type": "stream",
     "text": [
      "not True is False\n",
      "True and False is False\n",
      "True or False is True\n"
     ]
    }
   ],
   "source": [
    "# basic boolean operations include \"and\", \"or\", \"not\"\n",
    "print(\"not True is\", not True)\n",
    "print(\"True and False is\", True and False)\n",
    "print(\"True or False is\", True or False)"
   ]
  },
  {
   "cell_type": "code",
   "execution_count": 10,
   "metadata": {},
   "outputs": [
    {
     "name": "stdout",
     "output_type": "stream",
     "text": [
      "length of string is  6\n",
      "s\n",
      "tr\n",
      "This is a string!\n",
      "STRING\n",
      "stringstringstringstring\n",
      "True\n",
      "2\n",
      "['I', 'am', 'a', 'sentence']\n",
      "a...b...c\n",
      "Formatting a string like 0.12\n",
      "Or like string!\n"
     ]
    }
   ],
   "source": [
    "# string operation \n",
    "s = \"string\"\n",
    "\n",
    "print(\"length of string is \", len(s))\n",
    "print(s[0]) # get char by index\n",
    "print(s[1:3]) # [1,3)\n",
    "print(\"This is a \" + s + \"!\")#append \n",
    "print(s.upper()) # lower()\n",
    "print(s*4) #copy\n",
    "print(\"ring\" in s)\n",
    "print(s.index(\"ring\"))\n",
    "# slice by delimiter\n",
    "print(\"I am a sentence\".split(\" \"))\n",
    "# concatenate a list of string using a delimiter\n",
    "print(\"...\".join(['a','b','c']))\n",
    "# formatting variables\n",
    "print(\"Formatting a string like %.2f\"%(0.12345))\n",
    "print(f\"Or like {s}!\")"
   ]
  },
  {
   "cell_type": "code",
   "execution_count": 11,
   "metadata": {},
   "outputs": [
    {
     "name": "stdout",
     "output_type": "stream",
     "text": [
      "0\n",
      "1\n",
      "2\n",
      "3\n",
      "4\n"
     ]
    }
   ],
   "source": [
    "for i in range(0, 5): #[0,5)\n",
    "    print(i)"
   ]
  },
  {
   "cell_type": "code",
   "execution_count": null,
   "metadata": {},
   "outputs": [],
   "source": [
    "val = 10\n",
    "if val = 10:"
   ]
  }
 ],
 "metadata": {
  "kernelspec": {
   "display_name": "Python 3",
   "language": "python",
   "name": "python3"
  },
  "language_info": {
   "codemirror_mode": {
    "name": "ipython",
    "version": 3
   },
   "file_extension": ".py",
   "mimetype": "text/x-python",
   "name": "python",
   "nbconvert_exporter": "python",
   "pygments_lexer": "ipython3",
   "version": "3.8.5"
  }
 },
 "nbformat": 4,
 "nbformat_minor": 4
}
